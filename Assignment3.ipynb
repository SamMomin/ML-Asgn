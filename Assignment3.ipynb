{
 "cells": [
  {
   "cell_type": "code",
   "execution_count": 7,
   "metadata": {},
   "outputs": [
    {
     "name": "stdout",
     "output_type": "stream",
     "text": [
      "myreduce list op= 19\n",
      "myreduce tuple op= 18\n",
      "myreduce set op= 23\n",
      "myreduce dictionary op= 36\n",
      "myreduce list op= 15\n",
      "myreduce tuple op= 210\n",
      "myreduce set op= 1080\n",
      "myreduce dictionary op= 1716\n"
     ]
    }
   ],
   "source": [
    "#1.1 program to implement user defined  reduce function\n",
    "\n",
    "def sum(a,b):\n",
    "    return a+b\n",
    "\n",
    "#sum(2,3)\n",
    "\n",
    "def multiply(a,b):\n",
    "    return a*b\n",
    "\n",
    "#multiply(2,3)\n",
    "\n",
    "def myreduce(myfunc,sequence,initial=None):\n",
    "    it=iter(sequence)\n",
    "    if initial is None:\n",
    "        value = next(it)\n",
    "    else:\n",
    "        value=initial\n",
    "    for element in it:\n",
    "        value = myfunc(value,element)\n",
    "    return value\n",
    "\n",
    "l1 = [1,3,5]\n",
    "t1 = (5,6,7)\n",
    "set1 = {2,3,4,5,9}\n",
    "d1= {'a':11,'b':12,'c':13}\n",
    "\n",
    "\n",
    "print(\"myreduce list op=\",myreduce(sum,l1,10))\n",
    "print(\"myreduce tuple op=\",myreduce(sum,t1))\n",
    "print(\"myreduce set op=\",myreduce(sum,set1))\n",
    "print(\"myreduce dictionary op=\",myreduce(sum,d1.values()))\n",
    "\n",
    "\n",
    "print(\"myreduce list op=\",myreduce(multiply,l1))\n",
    "print(\"myreduce tuple op=\",myreduce(multiply,t1))\n",
    "print(\"myreduce set op=\",myreduce(multiply,set1))\n",
    "print(\"myreduce dictionary op=\",myreduce(multiply,d1.values()))\n",
    "\n"
   ]
  },
  {
   "cell_type": "code",
   "execution_count": 6,
   "metadata": {},
   "outputs": [
    {
     "name": "stdout",
     "output_type": "stream",
     "text": [
      "r= [2, 4, 6, 8, 12, 14]\n"
     ]
    }
   ],
   "source": [
    "# program to create user defined filter() function\n",
    "\n",
    "def myfilter(myfunc, sequence):\n",
    "    return myfunc(sequence)\n",
    "\n",
    "\n",
    "list1 = [2, 3, 4, 5, 6, 7,8,9,12,13,14,15]\n",
    "#list1 = [-2, -3, -4, 5, 6, 7,8,9,12,13,14,15]\n",
    "\n",
    "#print(\"list1=\",list1)\n",
    "\n",
    "def find_even(list1):\n",
    "    evenList = []\n",
    "    for i in list1:\n",
    "        if i % 2 == 0:\n",
    "            evenList.append(i)\n",
    "    return evenList\n",
    "\n",
    "\n",
    "r=myfilter(find_even, list1)\n",
    "print(\"r=\",r)"
   ]
  },
  {
   "cell_type": "code",
   "execution_count": null,
   "metadata": {},
   "outputs": [],
   "source": []
  },
  {
   "cell_type": "code",
   "execution_count": null,
   "metadata": {},
   "outputs": [],
   "source": []
  }
 ],
 "metadata": {
  "kernelspec": {
   "display_name": "Python 3",
   "language": "python",
   "name": "python3"
  },
  "language_info": {
   "codemirror_mode": {
    "name": "ipython",
    "version": 3
   },
   "file_extension": ".py",
   "mimetype": "text/x-python",
   "name": "python",
   "nbconvert_exporter": "python",
   "pygments_lexer": "ipython3",
   "version": "3.7.4"
  }
 },
 "nbformat": 4,
 "nbformat_minor": 2
}
