{
 "cells": [
  {
   "cell_type": "code",
   "execution_count": 1,
   "metadata": {},
   "outputs": [
    {
     "name": "stdout",
     "output_type": "stream",
     "text": [
      "enter length of side1=4\n",
      "enter length of side2=5\n",
      "enter length of side3=6\n",
      "s= 7.5\n",
      "Area of triangle= 9.921567416492215\n"
     ]
    }
   ],
   "source": [
    "#1.1 area = (s*(s-a)*(s-b)*(s-c)) ** 0.5\n",
    "\n",
    "class Shape:\n",
    "    def __init__(self,sides):\n",
    "        self.n=sides\n",
    "        self.n_sides = [0 for i in range(sides)]\n",
    "\n",
    "    def sides(self):\n",
    "        self.n_sides=[float(input(\"enter length of side\"+str(i+1)+\"=\")) for i in range(self.n)]\n",
    "\n",
    "\n",
    "class Triangle(Shape):\n",
    "    def __init__(self):\n",
    "        Shape.__init__(self,3)\n",
    "\n",
    "    def area(self):\n",
    "        a,b,c=self.n_sides\n",
    "        #calculate semiperimeter\n",
    "        s=(a+b+c)/2\n",
    "        print(\"s=\",s)\n",
    "        areaOfTriangle= (s*(s-a)*(s-b)*(s-c))**0.5\n",
    "        print(\"Area of triangle=\",areaOfTriangle)\n",
    "\n",
    "t= Triangle()\n",
    "t.sides()\n",
    "t.area()\n"
   ]
  },
  {
   "cell_type": "code",
   "execution_count": 2,
   "metadata": {},
   "outputs": [
    {
     "name": "stdout",
     "output_type": "stream",
     "text": [
      "enter the string to form list=aaaa\n",
      "enter the string to form list=ssssss\n",
      "enter the string to form list=ddddddd\n",
      "enter the string to form list=eee\n",
      "enter the string to form list=ffff\n",
      "l1= ['aaaa', 'ssssss', 'ddddddd', 'eee', 'ffff']\n",
      "please enter the integer n =4\n",
      "filtered list=  ['ssssss', 'ddddddd']\n"
     ]
    }
   ],
   "source": [
    "#1.2 Write a function filter_long_words() that takes a list of words and an integer n and returns\n",
    "#the list of words that are longer than n.\n",
    "\n",
    "#l1 =['aa','abc','zzzzzz','xyz','lmnop']\n",
    "#print(l1)\n",
    "l1=[]\n",
    "for i in range(5):\n",
    "    i=input(\"enter the string to form list=\")\n",
    "    l1.append(i)\n",
    "print(\"l1=\",l1)\n",
    "\n",
    "def filter_long_words(l1,n):\n",
    "    filteredList = []\n",
    "    for i in l1:\n",
    "        if len(i)>n:\n",
    "            filteredList.append(i)\n",
    "    if len(filteredList) == 0:\n",
    "        print(\"No word is greater than given length\")\n",
    "    return filteredList\n",
    "\n",
    "n = int(input(\"please enter the integer n =\"))\n",
    "print(\"filtered list= \",filter_long_words(l1,n))"
   ]
  },
  {
   "cell_type": "code",
   "execution_count": null,
   "metadata": {},
   "outputs": [],
   "source": [
    "#map list to print list of length of each string\n",
    "list1 = []\n",
    "for i in range(5):\n",
    "    i = input(\"enter string to form list=\")\n",
    "    list1.append(i)\n",
    "print(\"list1=\",list1)\n",
    "\n",
    "def sum(l):\n",
    "    return len(l)\n",
    "\n",
    "maplist = map(sum,list1)\n",
    "print(\"maplist= \",list(maplist)"
   ]
  },
  {
   "cell_type": "code",
   "execution_count": null,
   "metadata": {},
   "outputs": [],
   "source": [
    "#2.2 find char is vowel or not\n",
    "vowels = ['a','e','i','o','u']\n",
    "def findVowel():\n",
    "    i = input(\"Enter a character\")\n",
    "    if i in vowels:\n",
    "        return True\n",
    "    else:\n",
    "        return False\n",
    "\n",
    "print(findVowel())"
   ]
  },
  {
   "cell_type": "code",
   "execution_count": null,
   "metadata": {},
   "outputs": [],
   "source": []
  }
 ],
 "metadata": {
  "kernelspec": {
   "display_name": "Python 3",
   "language": "python",
   "name": "python3"
  },
  "language_info": {
   "codemirror_mode": {
    "name": "ipython",
    "version": 3
   },
   "file_extension": ".py",
   "mimetype": "text/x-python",
   "name": "python",
   "nbconvert_exporter": "python",
   "pygments_lexer": "ipython3",
   "version": "3.7.4"
  }
 },
 "nbformat": 4,
 "nbformat_minor": 2
}
